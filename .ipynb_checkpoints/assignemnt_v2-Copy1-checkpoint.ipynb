{
 "cells": [
  {
   "cell_type": "code",
   "execution_count": 1,
   "id": "35b261c1",
   "metadata": {},
   "outputs": [
    {
     "name": "stdout",
     "output_type": "stream",
     "text": [
      "(99976, 43)\n",
      "has_paid                                  bool\n",
      "status_last_archived_0_24m               int64\n",
      "num_arch_dc_12_24m                       int64\n",
      "num_arch_ok_0_12m                        int64\n",
      "num_arch_ok_12_24m                       int64\n",
      "num_arch_rem_0_12m                       int64\n",
      "num_unpaid_bills                         int64\n",
      "age                                      int64\n",
      "num_arch_dc_0_12m                        int64\n",
      "status_2nd_last_archived_0_24m           int64\n",
      "num_active_inv                           int64\n",
      "status_max_archived_0_6_months           int64\n",
      "status_max_archived_0_12_months          int64\n",
      "status_max_archived_0_24_months          int64\n",
      "recovery_debt                            int64\n",
      "sum_capital_paid_account_0_12m           int64\n",
      "sum_capital_paid_account_12_24m          int64\n",
      "account_amount_added_12_24m              int64\n",
      "sum_paid_inv_0_12m                       int64\n",
      "status_3rd_last_archived_0_24m           int64\n",
      "num_arch_written_off_12_24m            float64\n",
      "num_arch_written_off_0_12m             float64\n",
      "num_active_div_by_paid_inv_0_12m       float64\n",
      "worst_status_active_inv                float64\n",
      "account_worst_status_12_24m            float64\n",
      "max_paid_inv_0_24m                     float64\n",
      "max_paid_inv_0_12m                     float64\n",
      "default                                float64\n",
      "account_days_in_dc_12_24m              float64\n",
      "avg_payment_span_0_3m                  float64\n",
      "avg_payment_span_0_12m                 float64\n",
      "account_worst_status_6_12m             float64\n",
      "account_worst_status_3_6m              float64\n",
      "time_hours                             float64\n",
      "account_worst_status_0_3m              float64\n",
      "account_status                         float64\n",
      "account_incoming_debt_vs_paid_0_24m    float64\n",
      "account_days_in_term_12_24m            float64\n",
      "account_days_in_rem_12_24m             float64\n",
      "name_in_email                           object\n",
      "merchant_group                          object\n",
      "merchant_category                       object\n",
      "uuid                                    object\n",
      "dtype: object\n"
     ]
    }
   ],
   "source": [
    "import pandas as pd\n",
    "df = pd.read_csv(r'dataset.csv',delimiter = ';')\n",
    "print(df.shape)\n",
    "print(df.dtypes.sort_values())"
   ]
  },
  {
   "cell_type": "code",
   "execution_count": 2,
   "id": "3e21d6e8",
   "metadata": {},
   "outputs": [
    {
     "data": {
      "text/plain": [
       "0.0    88688\n",
       "1.0     1288\n",
       "Name: default, dtype: int64"
      ]
     },
     "execution_count": 2,
     "metadata": {},
     "output_type": "execute_result"
    }
   ],
   "source": [
    "## distribution of dependent variable\n",
    "df['default'].value_counts()"
   ]
  },
  {
   "cell_type": "code",
   "execution_count": 3,
   "id": "5f992a3a",
   "metadata": {},
   "outputs": [],
   "source": [
    "from sklearn import preprocessing\n",
    "columns = ['name_in_email', 'merchant_group', 'merchant_category']\n",
    "for column in columns:\n",
    "    le = preprocessing.LabelEncoder()\n",
    "    le.fit(df[column])\n",
    "    df.loc[:, column] = le.transform(df[column])"
   ]
  },
  {
   "cell_type": "markdown",
   "id": "9e9eb821",
   "metadata": {},
   "source": [
    "## Segrate train and test data"
   ]
  },
  {
   "cell_type": "code",
   "execution_count": 4,
   "id": "d4396cd1",
   "metadata": {},
   "outputs": [
    {
     "name": "stdout",
     "output_type": "stream",
     "text": [
      "(10000, 43)\n",
      "(89976, 43)\n"
     ]
    }
   ],
   "source": [
    "test_df = df.loc[df['default'].isnull()]\n",
    "train_df = df.loc[~(df['default'].isnull())]\n",
    "print(test_df.shape)\n",
    "print(train_df.shape)"
   ]
  },
  {
   "cell_type": "code",
   "execution_count": 5,
   "id": "e0ae6508",
   "metadata": {},
   "outputs": [
    {
     "data": {
      "text/plain": [
       "(89976, 42)"
      ]
     },
     "execution_count": 5,
     "metadata": {},
     "output_type": "execute_result"
    }
   ],
   "source": [
    "## drop uuid from train data\n",
    "train_df = train_df.drop(columns = ['uuid'])\n",
    "train_df.shape"
   ]
  },
  {
   "cell_type": "markdown",
   "id": "7bcfecb9",
   "metadata": {},
   "source": [
    "## Missing value distribution and imputation\n",
    "### Todo:\n",
    "#### 1. Use different than mean for imputation\n",
    "#### 2. Use automated imputation using modeling\n",
    "#### 3. There is model specific imputation"
   ]
  },
  {
   "cell_type": "code",
   "execution_count": 6,
   "id": "bb8cfa5d",
   "metadata": {},
   "outputs": [
    {
     "data": {
      "text/html": [
       "<div>\n",
       "<style scoped>\n",
       "    .dataframe tbody tr th:only-of-type {\n",
       "        vertical-align: middle;\n",
       "    }\n",
       "\n",
       "    .dataframe tbody tr th {\n",
       "        vertical-align: top;\n",
       "    }\n",
       "\n",
       "    .dataframe thead th {\n",
       "        text-align: right;\n",
       "    }\n",
       "</style>\n",
       "<table border=\"1\" class=\"dataframe\">\n",
       "  <thead>\n",
       "    <tr style=\"text-align: right;\">\n",
       "      <th></th>\n",
       "      <th>Frequency</th>\n",
       "      <th>PrecentageMissing</th>\n",
       "    </tr>\n",
       "  </thead>\n",
       "  <tbody>\n",
       "    <tr>\n",
       "      <th>worst_status_active_inv</th>\n",
       "      <td>62540</td>\n",
       "      <td>69.507424</td>\n",
       "    </tr>\n",
       "    <tr>\n",
       "      <th>account_worst_status_12_24m</th>\n",
       "      <td>60055</td>\n",
       "      <td>66.745577</td>\n",
       "    </tr>\n",
       "    <tr>\n",
       "      <th>account_worst_status_6_12m</th>\n",
       "      <td>54313</td>\n",
       "      <td>60.363875</td>\n",
       "    </tr>\n",
       "    <tr>\n",
       "      <th>account_incoming_debt_vs_paid_0_24m</th>\n",
       "      <td>53357</td>\n",
       "      <td>59.301369</td>\n",
       "    </tr>\n",
       "    <tr>\n",
       "      <th>account_worst_status_3_6m</th>\n",
       "      <td>51938</td>\n",
       "      <td>57.724282</td>\n",
       "    </tr>\n",
       "    <tr>\n",
       "      <th>account_worst_status_0_3m</th>\n",
       "      <td>48934</td>\n",
       "      <td>54.385614</td>\n",
       "    </tr>\n",
       "    <tr>\n",
       "      <th>account_status</th>\n",
       "      <td>48934</td>\n",
       "      <td>54.385614</td>\n",
       "    </tr>\n",
       "    <tr>\n",
       "      <th>avg_payment_span_0_3m</th>\n",
       "      <td>44382</td>\n",
       "      <td>49.326487</td>\n",
       "    </tr>\n",
       "    <tr>\n",
       "      <th>avg_payment_span_0_12m</th>\n",
       "      <td>21468</td>\n",
       "      <td>23.859696</td>\n",
       "    </tr>\n",
       "    <tr>\n",
       "      <th>num_active_div_by_paid_inv_0_12m</th>\n",
       "      <td>20658</td>\n",
       "      <td>22.959456</td>\n",
       "    </tr>\n",
       "    <tr>\n",
       "      <th>num_arch_written_off_12_24m</th>\n",
       "      <td>16305</td>\n",
       "      <td>18.121499</td>\n",
       "    </tr>\n",
       "    <tr>\n",
       "      <th>num_arch_written_off_0_12m</th>\n",
       "      <td>16305</td>\n",
       "      <td>18.121499</td>\n",
       "    </tr>\n",
       "    <tr>\n",
       "      <th>account_days_in_rem_12_24m</th>\n",
       "      <td>10683</td>\n",
       "      <td>11.873166</td>\n",
       "    </tr>\n",
       "    <tr>\n",
       "      <th>account_days_in_term_12_24m</th>\n",
       "      <td>10683</td>\n",
       "      <td>11.873166</td>\n",
       "    </tr>\n",
       "    <tr>\n",
       "      <th>account_days_in_dc_12_24m</th>\n",
       "      <td>10683</td>\n",
       "      <td>11.873166</td>\n",
       "    </tr>\n",
       "    <tr>\n",
       "      <th>sum_paid_inv_0_12m</th>\n",
       "      <td>0</td>\n",
       "      <td>0.000000</td>\n",
       "    </tr>\n",
       "    <tr>\n",
       "      <th>sum_capital_paid_account_12_24m</th>\n",
       "      <td>0</td>\n",
       "      <td>0.000000</td>\n",
       "    </tr>\n",
       "    <tr>\n",
       "      <th>sum_capital_paid_account_0_12m</th>\n",
       "      <td>0</td>\n",
       "      <td>0.000000</td>\n",
       "    </tr>\n",
       "    <tr>\n",
       "      <th>time_hours</th>\n",
       "      <td>0</td>\n",
       "      <td>0.000000</td>\n",
       "    </tr>\n",
       "    <tr>\n",
       "      <th>status_max_archived_0_24_months</th>\n",
       "      <td>0</td>\n",
       "      <td>0.000000</td>\n",
       "    </tr>\n",
       "    <tr>\n",
       "      <th>status_max_archived_0_12_months</th>\n",
       "      <td>0</td>\n",
       "      <td>0.000000</td>\n",
       "    </tr>\n",
       "    <tr>\n",
       "      <th>status_max_archived_0_6_months</th>\n",
       "      <td>0</td>\n",
       "      <td>0.000000</td>\n",
       "    </tr>\n",
       "    <tr>\n",
       "      <th>status_3rd_last_archived_0_24m</th>\n",
       "      <td>0</td>\n",
       "      <td>0.000000</td>\n",
       "    </tr>\n",
       "    <tr>\n",
       "      <th>status_2nd_last_archived_0_24m</th>\n",
       "      <td>0</td>\n",
       "      <td>0.000000</td>\n",
       "    </tr>\n",
       "    <tr>\n",
       "      <th>status_last_archived_0_24m</th>\n",
       "      <td>0</td>\n",
       "      <td>0.000000</td>\n",
       "    </tr>\n",
       "    <tr>\n",
       "      <th>num_unpaid_bills</th>\n",
       "      <td>0</td>\n",
       "      <td>0.000000</td>\n",
       "    </tr>\n",
       "    <tr>\n",
       "      <th>recovery_debt</th>\n",
       "      <td>0</td>\n",
       "      <td>0.000000</td>\n",
       "    </tr>\n",
       "    <tr>\n",
       "      <th>default</th>\n",
       "      <td>0</td>\n",
       "      <td>0.000000</td>\n",
       "    </tr>\n",
       "    <tr>\n",
       "      <th>num_arch_rem_0_12m</th>\n",
       "      <td>0</td>\n",
       "      <td>0.000000</td>\n",
       "    </tr>\n",
       "    <tr>\n",
       "      <th>num_arch_ok_12_24m</th>\n",
       "      <td>0</td>\n",
       "      <td>0.000000</td>\n",
       "    </tr>\n",
       "    <tr>\n",
       "      <th>num_arch_ok_0_12m</th>\n",
       "      <td>0</td>\n",
       "      <td>0.000000</td>\n",
       "    </tr>\n",
       "    <tr>\n",
       "      <th>num_arch_dc_12_24m</th>\n",
       "      <td>0</td>\n",
       "      <td>0.000000</td>\n",
       "    </tr>\n",
       "    <tr>\n",
       "      <th>num_arch_dc_0_12m</th>\n",
       "      <td>0</td>\n",
       "      <td>0.000000</td>\n",
       "    </tr>\n",
       "    <tr>\n",
       "      <th>account_amount_added_12_24m</th>\n",
       "      <td>0</td>\n",
       "      <td>0.000000</td>\n",
       "    </tr>\n",
       "    <tr>\n",
       "      <th>name_in_email</th>\n",
       "      <td>0</td>\n",
       "      <td>0.000000</td>\n",
       "    </tr>\n",
       "    <tr>\n",
       "      <th>max_paid_inv_0_24m</th>\n",
       "      <td>0</td>\n",
       "      <td>0.000000</td>\n",
       "    </tr>\n",
       "    <tr>\n",
       "      <th>max_paid_inv_0_12m</th>\n",
       "      <td>0</td>\n",
       "      <td>0.000000</td>\n",
       "    </tr>\n",
       "    <tr>\n",
       "      <th>has_paid</th>\n",
       "      <td>0</td>\n",
       "      <td>0.000000</td>\n",
       "    </tr>\n",
       "    <tr>\n",
       "      <th>merchant_group</th>\n",
       "      <td>0</td>\n",
       "      <td>0.000000</td>\n",
       "    </tr>\n",
       "    <tr>\n",
       "      <th>merchant_category</th>\n",
       "      <td>0</td>\n",
       "      <td>0.000000</td>\n",
       "    </tr>\n",
       "    <tr>\n",
       "      <th>age</th>\n",
       "      <td>0</td>\n",
       "      <td>0.000000</td>\n",
       "    </tr>\n",
       "    <tr>\n",
       "      <th>num_active_inv</th>\n",
       "      <td>0</td>\n",
       "      <td>0.000000</td>\n",
       "    </tr>\n",
       "  </tbody>\n",
       "</table>\n",
       "</div>"
      ],
      "text/plain": [
       "                                     Frequency  PrecentageMissing\n",
       "worst_status_active_inv                  62540          69.507424\n",
       "account_worst_status_12_24m              60055          66.745577\n",
       "account_worst_status_6_12m               54313          60.363875\n",
       "account_incoming_debt_vs_paid_0_24m      53357          59.301369\n",
       "account_worst_status_3_6m                51938          57.724282\n",
       "account_worst_status_0_3m                48934          54.385614\n",
       "account_status                           48934          54.385614\n",
       "avg_payment_span_0_3m                    44382          49.326487\n",
       "avg_payment_span_0_12m                   21468          23.859696\n",
       "num_active_div_by_paid_inv_0_12m         20658          22.959456\n",
       "num_arch_written_off_12_24m              16305          18.121499\n",
       "num_arch_written_off_0_12m               16305          18.121499\n",
       "account_days_in_rem_12_24m               10683          11.873166\n",
       "account_days_in_term_12_24m              10683          11.873166\n",
       "account_days_in_dc_12_24m                10683          11.873166\n",
       "sum_paid_inv_0_12m                           0           0.000000\n",
       "sum_capital_paid_account_12_24m              0           0.000000\n",
       "sum_capital_paid_account_0_12m               0           0.000000\n",
       "time_hours                                   0           0.000000\n",
       "status_max_archived_0_24_months              0           0.000000\n",
       "status_max_archived_0_12_months              0           0.000000\n",
       "status_max_archived_0_6_months               0           0.000000\n",
       "status_3rd_last_archived_0_24m               0           0.000000\n",
       "status_2nd_last_archived_0_24m               0           0.000000\n",
       "status_last_archived_0_24m                   0           0.000000\n",
       "num_unpaid_bills                             0           0.000000\n",
       "recovery_debt                                0           0.000000\n",
       "default                                      0           0.000000\n",
       "num_arch_rem_0_12m                           0           0.000000\n",
       "num_arch_ok_12_24m                           0           0.000000\n",
       "num_arch_ok_0_12m                            0           0.000000\n",
       "num_arch_dc_12_24m                           0           0.000000\n",
       "num_arch_dc_0_12m                            0           0.000000\n",
       "account_amount_added_12_24m                  0           0.000000\n",
       "name_in_email                                0           0.000000\n",
       "max_paid_inv_0_24m                           0           0.000000\n",
       "max_paid_inv_0_12m                           0           0.000000\n",
       "has_paid                                     0           0.000000\n",
       "merchant_group                               0           0.000000\n",
       "merchant_category                            0           0.000000\n",
       "age                                          0           0.000000\n",
       "num_active_inv                               0           0.000000"
      ]
     },
     "execution_count": 6,
     "metadata": {},
     "output_type": "execute_result"
    }
   ],
   "source": [
    "## columns with total missing values\n",
    "missing_count = train_df.isnull().sum().sort_values(ascending = False)\n",
    "missing_df = pd.DataFrame(missing_count, columns = ['Frequency'])\n",
    "missing_df['PrecentageMissing'] = (missing_df['Frequency'] / train_df.shape[0]) * 100\n",
    "missing_df"
   ]
  },
  {
   "cell_type": "code",
   "execution_count": 7,
   "id": "102c2e3f",
   "metadata": {},
   "outputs": [
    {
     "data": {
      "text/plain": [
       "Index(['worst_status_active_inv', 'account_worst_status_12_24m',\n",
       "       'account_worst_status_6_12m', 'account_incoming_debt_vs_paid_0_24m',\n",
       "       'account_worst_status_3_6m', 'account_worst_status_0_3m',\n",
       "       'account_status', 'avg_payment_span_0_3m'],\n",
       "      dtype='object')"
      ]
     },
     "execution_count": 7,
     "metadata": {},
     "output_type": "execute_result"
    }
   ],
   "source": [
    "## Drop columns with missing percentage more than 50\n",
    "drop_columns = missing_df.loc[missing_df['PrecentageMissing'] >= 40].index\n",
    "drop_columns"
   ]
  },
  {
   "cell_type": "code",
   "execution_count": 8,
   "id": "e7746487",
   "metadata": {},
   "outputs": [
    {
     "data": {
      "text/plain": [
       "(89976, 34)"
      ]
     },
     "execution_count": 8,
     "metadata": {},
     "output_type": "execute_result"
    }
   ],
   "source": [
    "train_df.drop(columns=drop_columns, inplace = True)\n",
    "train_df.shape"
   ]
  },
  {
   "cell_type": "code",
   "execution_count": 9,
   "id": "1d299dbc",
   "metadata": {},
   "outputs": [],
   "source": [
    "### Missing value imputation using mean\n",
    "mean = train_df.mean()\n",
    "train_df = train_df.fillna(mean)\n",
    "test_df = test_df.fillna(mean)\n",
    "y = train_df['default']\n",
    "X = train_df.drop(columns = ['default'])"
   ]
  },
  {
   "cell_type": "markdown",
   "id": "c952fce7",
   "metadata": {},
   "source": [
    "## Divide dataset into train and test "
   ]
  },
  {
   "cell_type": "code",
   "execution_count": 10,
   "id": "fd16ad13",
   "metadata": {},
   "outputs": [],
   "source": [
    "from sklearn.model_selection import train_test_split\n",
    "X_train, X_test, y_train, y_test = train_test_split(X, y, test_size=0.33, random_state=42)"
   ]
  },
  {
   "cell_type": "markdown",
   "id": "824f381e",
   "metadata": {},
   "source": [
    "## Baseline model "
   ]
  },
  {
   "cell_type": "code",
   "execution_count": 11,
   "id": "6c160087",
   "metadata": {},
   "outputs": [
    {
     "name": "stderr",
     "output_type": "stream",
     "text": [
      "C:\\Users\\Admin\\anaconda3\\lib\\site-packages\\sklearn\\linear_model\\_logistic.py:814: ConvergenceWarning: lbfgs failed to converge (status=1):\n",
      "STOP: TOTAL NO. of ITERATIONS REACHED LIMIT.\n",
      "\n",
      "Increase the number of iterations (max_iter) or scale the data as shown in:\n",
      "    https://scikit-learn.org/stable/modules/preprocessing.html\n",
      "Please also refer to the documentation for alternative solver options:\n",
      "    https://scikit-learn.org/stable/modules/linear_model.html#logistic-regression\n",
      "  n_iter_i = _check_optimize_result(\n"
     ]
    },
    {
     "name": "stdout",
     "output_type": "stream",
     "text": [
      "training accuracy: 0.9852197136837915\n",
      "Test accuracy: 0.9853164045397905\n"
     ]
    }
   ],
   "source": [
    "from sklearn.linear_model import LogisticRegression\n",
    "model = LogisticRegression(max_iter = 500)\n",
    "model.fit(X_train, y_train)\n",
    "print(\"training accuracy: {}\".format(model.score(X_train, y_train)))\n",
    "print(\"Test accuracy: {}\".format(model.score(X_test, y_test)))"
   ]
  },
  {
   "cell_type": "code",
   "execution_count": 12,
   "id": "45735664",
   "metadata": {},
   "outputs": [
    {
     "name": "stdout",
     "output_type": "stream",
     "text": [
      "training accuracy: 1.0\n",
      "Test accuracy: 0.9860236419358098\n"
     ]
    }
   ],
   "source": [
    "from sklearn.ensemble import RandomForestClassifier\n",
    "clf = RandomForestClassifier()\n",
    "clf.fit(X_train, y_train)\n",
    "print(\"training accuracy: {}\".format(clf.score(X_train, y_train)))\n",
    "print(\"Test accuracy: {}\".format(clf.score(X_test, y_test)))"
   ]
  },
  {
   "cell_type": "code",
   "execution_count": null,
   "id": "87b869a4",
   "metadata": {},
   "outputs": [],
   "source": []
  },
  {
   "cell_type": "markdown",
   "id": "1e9fc3af",
   "metadata": {},
   "source": [
    "## Prediction on True Test Data"
   ]
  },
  {
   "cell_type": "code",
   "execution_count": null,
   "id": "457a678f",
   "metadata": {},
   "outputs": [],
   "source": [
    "## Do the same preprocessing that was done on train data\n",
    "## 1. Missing value imputation - Done\n",
    "## 2. categorical to numerical conversion - Done"
   ]
  },
  {
   "cell_type": "code",
   "execution_count": null,
   "id": "ff98cb6d",
   "metadata": {},
   "outputs": [],
   "source": []
  },
  {
   "cell_type": "markdown",
   "id": "79d1d40e",
   "metadata": {},
   "source": [
    "## Oversampling using SMOTE"
   ]
  },
  {
   "cell_type": "code",
   "execution_count": 13,
   "id": "54c939aa",
   "metadata": {},
   "outputs": [],
   "source": [
    "from imblearn.over_sampling import SMOTE\n",
    "smote = SMOTE(random_state = 42)\n",
    "X_train, y_train = smote.fit_resample(X_train, y_train)"
   ]
  },
  {
   "cell_type": "code",
   "execution_count": 14,
   "id": "1284121c",
   "metadata": {},
   "outputs": [
    {
     "name": "stderr",
     "output_type": "stream",
     "text": [
      "C:\\Users\\Admin\\anaconda3\\lib\\site-packages\\sklearn\\linear_model\\_logistic.py:814: ConvergenceWarning: lbfgs failed to converge (status=1):\n",
      "STOP: TOTAL NO. of ITERATIONS REACHED LIMIT.\n",
      "\n",
      "Increase the number of iterations (max_iter) or scale the data as shown in:\n",
      "    https://scikit-learn.org/stable/modules/preprocessing.html\n",
      "Please also refer to the documentation for alternative solver options:\n",
      "    https://scikit-learn.org/stable/modules/linear_model.html#logistic-regression\n",
      "  n_iter_i = _check_optimize_result(\n"
     ]
    },
    {
     "name": "stdout",
     "output_type": "stream",
     "text": [
      "Training accuracy: 78.72%\n",
      "Test accuracy    : 75.39%\n"
     ]
    }
   ],
   "source": [
    "from sklearn.linear_model import LogisticRegression\n",
    "model = LogisticRegression(max_iter = 500)\n",
    "model.fit(X_train, y_train)\n",
    "print(\"Training accuracy: {:.2f}%\".format(model.score(X_train, y_train) * 100))\n",
    "print(\"Test accuracy    : {:.2f}%\".format(model.score(X_test, y_test) * 100))"
   ]
  },
  {
   "cell_type": "code",
   "execution_count": 27,
   "id": "8375913c",
   "metadata": {},
   "outputs": [
    {
     "name": "stdout",
     "output_type": "stream",
     "text": [
      "Training accuracy: 100.00%\n",
      "Test accuracy    : 97.52%\n"
     ]
    }
   ],
   "source": [
    "from sklearn.ensemble import RandomForestClassifier\n",
    "clf = RandomForestClassifier(bootstrap= True, criterion = 'entropy', n_estimators =100)\n",
    "clf.fit(X_train, y_train)\n",
    "print(\"Training accuracy: {:.2f}%\".format(clf.score(X_train, y_train) * 100))\n",
    "print(\"Test accuracy    : {:.2f}%\".format(clf.score(X_test, y_test) * 100))"
   ]
  },
  {
   "cell_type": "code",
   "execution_count": null,
   "id": "4acc280a",
   "metadata": {},
   "outputs": [],
   "source": [
    "uuid = test_df['uuid']\n",
    "test_df.drop(columns = ['uuid', 'default'] + drop_columns.tolist(), inplace = True)\n",
    "p_default = clf.predict_proba(test_df)\n",
    "pred_df = pd.DataFrame({'uuid': uuid, 'pd': p_default[:, 1]})\n",
    "pred_df.to_csv(r'output.csv', sep = ';', index = False)"
   ]
  },
  {
   "cell_type": "markdown",
   "id": "ecf2b79a",
   "metadata": {},
   "source": [
    "## Gridsearch using cross validation\n",
    "### Find best parameter for random forest, logistic regression and support vector machine"
   ]
  },
  {
   "cell_type": "code",
   "execution_count": 20,
   "id": "32e33696",
   "metadata": {},
   "outputs": [],
   "source": [
    "from sklearn.model_selection import GridSearchCV\n",
    "from sklearn.svm import SVC"
   ]
  },
  {
   "cell_type": "code",
   "execution_count": null,
   "id": "52b856b8",
   "metadata": {},
   "outputs": [
    {
     "name": "stdout",
     "output_type": "stream",
     "text": [
      "Fitting 3 folds for each of 6 candidates, totalling 18 fits\n",
      "[CV 1/3] END ......C=1, gamma=0.001, kernel=rbf;, score=0.702 total time=92.4min\n",
      "[CV 2/3] END ....C=1, gamma=0.001, kernel=rbf;, score=0.699 total time=3813.8min\n",
      "[CV 3/3] END .....C=1, gamma=0.001, kernel=rbf;, score=0.697 total time=186.7min\n",
      "[CV 1/3] END ....C=1, gamma=0.0001, kernel=rbf;, score=0.751 total time=362.9min\n"
     ]
    }
   ],
   "source": [
    "# param_grid = [\n",
    "#   {'C': [1, 10, 100, 1000], 'kernel': ['linear']},\n",
    "#   {'C': [1, 10, 100, 1000], 'gamma': [0.001, 0.0001], 'kernel': ['rbf']},\n",
    "#  ]\n",
    "param_grid = [{'C': [1, 100,1000], 'gamma': [0.001, 0.0001], 'kernel': ['rbf']}]\n",
    "model = SVC(random_state=42)\n",
    "clf = GridSearchCV(model, param_grid, cv = 3, verbose = 5)\n",
    "clf.fit(X_train, y_train)"
   ]
  },
  {
   "cell_type": "code",
   "execution_count": 21,
   "id": "e3af428b",
   "metadata": {},
   "outputs": [
    {
     "name": "stdout",
     "output_type": "stream",
     "text": [
      "Fitting 3 folds for each of 6 candidates, totalling 18 fits\n",
      "[CV 1/3] END bootstrap=True, criterion=gini, n_estimators=10;, score=0.979 total time=   2.8s\n",
      "[CV 2/3] END bootstrap=True, criterion=gini, n_estimators=10;, score=0.986 total time=   2.6s\n",
      "[CV 3/3] END bootstrap=True, criterion=gini, n_estimators=10;, score=0.985 total time=   2.5s\n",
      "[CV 1/3] END bootstrap=True, criterion=gini, n_estimators=50;, score=0.982 total time=  11.7s\n",
      "[CV 2/3] END bootstrap=True, criterion=gini, n_estimators=50;, score=0.989 total time=  11.6s\n",
      "[CV 3/3] END bootstrap=True, criterion=gini, n_estimators=50;, score=0.988 total time=  11.8s\n",
      "[CV 1/3] END bootstrap=True, criterion=gini, n_estimators=100;, score=0.982 total time=  23.1s\n",
      "[CV 2/3] END bootstrap=True, criterion=gini, n_estimators=100;, score=0.989 total time=  23.2s\n",
      "[CV 3/3] END bootstrap=True, criterion=gini, n_estimators=100;, score=0.988 total time=  24.0s\n",
      "[CV 1/3] END bootstrap=True, criterion=entropy, n_estimators=10;, score=0.979 total time=   2.9s\n",
      "[CV 2/3] END bootstrap=True, criterion=entropy, n_estimators=10;, score=0.985 total time=   3.0s\n",
      "[CV 3/3] END bootstrap=True, criterion=entropy, n_estimators=10;, score=0.985 total time=   2.9s\n",
      "[CV 1/3] END bootstrap=True, criterion=entropy, n_estimators=50;, score=0.982 total time=  13.5s\n",
      "[CV 2/3] END bootstrap=True, criterion=entropy, n_estimators=50;, score=0.988 total time=  13.8s\n",
      "[CV 3/3] END bootstrap=True, criterion=entropy, n_estimators=50;, score=0.988 total time=  14.3s\n",
      "[CV 1/3] END bootstrap=True, criterion=entropy, n_estimators=100;, score=0.983 total time=  26.9s\n",
      "[CV 2/3] END bootstrap=True, criterion=entropy, n_estimators=100;, score=0.989 total time=  27.7s\n",
      "[CV 3/3] END bootstrap=True, criterion=entropy, n_estimators=100;, score=0.988 total time=  27.4s\n"
     ]
    },
    {
     "data": {
      "text/plain": [
       "GridSearchCV(cv=3, estimator=RandomForestClassifier(random_state=42),\n",
       "             param_grid=[{'bootstrap': [True], 'criterion': ['gini', 'entropy'],\n",
       "                          'n_estimators': [10, 50, 100]}],\n",
       "             verbose=5)"
      ]
     },
     "execution_count": 21,
     "metadata": {},
     "output_type": "execute_result"
    }
   ],
   "source": [
    "param_grid = [{'n_estimators': [10, 50, 100], 'criterion': ['gini', 'entropy'], 'bootstrap': [True]}]\n",
    "model = RandomForestClassifier(random_state=42)\n",
    "clf = GridSearchCV(model, param_grid, cv = 3, verbose = 5)\n",
    "clf.fit(X_train, y_train)"
   ]
  },
  {
   "cell_type": "code",
   "execution_count": 24,
   "id": "0f5c275c",
   "metadata": {},
   "outputs": [
    {
     "name": "stdout",
     "output_type": "stream",
     "text": [
      "0.9865356278183692\n",
      "{'bootstrap': True, 'criterion': 'entropy', 'n_estimators': 100}\n"
     ]
    }
   ],
   "source": [
    "print(clf.best_score_)\n",
    "print(clf.best_params_)"
   ]
  },
  {
   "cell_type": "code",
   "execution_count": 23,
   "id": "a12d82a1",
   "metadata": {},
   "outputs": [
    {
     "data": {
      "text/plain": [
       "{'bootstrap': True, 'criterion': 'entropy', 'n_estimators': 100}"
      ]
     },
     "execution_count": 23,
     "metadata": {},
     "output_type": "execute_result"
    }
   ],
   "source": []
  },
  {
   "cell_type": "code",
   "execution_count": null,
   "id": "f7515a5c",
   "metadata": {},
   "outputs": [],
   "source": [
    "import os"
   ]
  },
  {
   "cell_type": "code",
   "execution_count": null,
   "id": "5c4fbea9",
   "metadata": {},
   "outputs": [],
   "source": []
  }
 ],
 "metadata": {
  "kernelspec": {
   "display_name": "Python 3",
   "language": "python",
   "name": "python3"
  },
  "language_info": {
   "codemirror_mode": {
    "name": "ipython",
    "version": 3
   },
   "file_extension": ".py",
   "mimetype": "text/x-python",
   "name": "python",
   "nbconvert_exporter": "python",
   "pygments_lexer": "ipython3",
   "version": "3.8.8"
  }
 },
 "nbformat": 4,
 "nbformat_minor": 5
}
