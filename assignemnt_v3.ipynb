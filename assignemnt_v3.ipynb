{
 "cells": [
  {
   "cell_type": "code",
   "execution_count": 1,
   "id": "35b261c1",
   "metadata": {},
   "outputs": [
    {
     "name": "stdout",
     "output_type": "stream",
     "text": [
      "(99976, 43)\n"
     ]
    }
   ],
   "source": [
    "import pandas as pd\n",
    "df = pd.read_csv(r'dataset.csv',delimiter = ';')\n",
    "print(df.shape)\n",
    "#print(df.dtypes.sort_values())"
   ]
  },
  {
   "cell_type": "code",
   "execution_count": 2,
   "id": "3e21d6e8",
   "metadata": {},
   "outputs": [
    {
     "data": {
      "text/plain": [
       "0.0    88688\n",
       "1.0     1288\n",
       "Name: default, dtype: int64"
      ]
     },
     "execution_count": 2,
     "metadata": {},
     "output_type": "execute_result"
    }
   ],
   "source": [
    "## distribution of dependent variable\n",
    "df['default'].value_counts()"
   ]
  },
  {
   "cell_type": "markdown",
   "id": "9e9eb821",
   "metadata": {},
   "source": [
    "## Segrate train and test data"
   ]
  },
  {
   "cell_type": "code",
   "execution_count": 3,
   "id": "d4396cd1",
   "metadata": {},
   "outputs": [
    {
     "name": "stdout",
     "output_type": "stream",
     "text": [
      "(10000, 43)\n",
      "(89976, 43)\n"
     ]
    }
   ],
   "source": [
    "test_df = df.loc[df['default'].isnull()]\n",
    "train_df = df.loc[~(df['default'].isnull())]\n",
    "print(test_df.shape)\n",
    "print(train_df.shape)"
   ]
  },
  {
   "cell_type": "code",
   "execution_count": 4,
   "id": "e0ae6508",
   "metadata": {},
   "outputs": [
    {
     "data": {
      "text/plain": [
       "(89976, 42)"
      ]
     },
     "execution_count": 4,
     "metadata": {},
     "output_type": "execute_result"
    }
   ],
   "source": [
    "## drop uuid from train data\n",
    "train_df = train_df.drop(columns = ['uuid'])\n",
    "train_df.shape"
   ]
  },
  {
   "cell_type": "markdown",
   "id": "7bcfecb9",
   "metadata": {},
   "source": [
    "## Missing value distribution and imputation\n",
    "### Todo:\n",
    "#### 1. Use different than mean for imputation\n",
    "#### 2. Use automated imputation using modeling\n",
    "#### 3. There is model specific imputation"
   ]
  },
  {
   "cell_type": "code",
   "execution_count": 5,
   "id": "bb8cfa5d",
   "metadata": {},
   "outputs": [
    {
     "data": {
      "text/html": [
       "<div>\n",
       "<style scoped>\n",
       "    .dataframe tbody tr th:only-of-type {\n",
       "        vertical-align: middle;\n",
       "    }\n",
       "\n",
       "    .dataframe tbody tr th {\n",
       "        vertical-align: top;\n",
       "    }\n",
       "\n",
       "    .dataframe thead th {\n",
       "        text-align: right;\n",
       "    }\n",
       "</style>\n",
       "<table border=\"1\" class=\"dataframe\">\n",
       "  <thead>\n",
       "    <tr style=\"text-align: right;\">\n",
       "      <th></th>\n",
       "      <th>Frequency</th>\n",
       "      <th>PrecentageMissing</th>\n",
       "    </tr>\n",
       "  </thead>\n",
       "  <tbody>\n",
       "    <tr>\n",
       "      <th>worst_status_active_inv</th>\n",
       "      <td>62540</td>\n",
       "      <td>69.507424</td>\n",
       "    </tr>\n",
       "    <tr>\n",
       "      <th>account_worst_status_12_24m</th>\n",
       "      <td>60055</td>\n",
       "      <td>66.745577</td>\n",
       "    </tr>\n",
       "    <tr>\n",
       "      <th>account_worst_status_6_12m</th>\n",
       "      <td>54313</td>\n",
       "      <td>60.363875</td>\n",
       "    </tr>\n",
       "    <tr>\n",
       "      <th>account_incoming_debt_vs_paid_0_24m</th>\n",
       "      <td>53357</td>\n",
       "      <td>59.301369</td>\n",
       "    </tr>\n",
       "    <tr>\n",
       "      <th>account_worst_status_3_6m</th>\n",
       "      <td>51938</td>\n",
       "      <td>57.724282</td>\n",
       "    </tr>\n",
       "  </tbody>\n",
       "</table>\n",
       "</div>"
      ],
      "text/plain": [
       "                                     Frequency  PrecentageMissing\n",
       "worst_status_active_inv                  62540          69.507424\n",
       "account_worst_status_12_24m              60055          66.745577\n",
       "account_worst_status_6_12m               54313          60.363875\n",
       "account_incoming_debt_vs_paid_0_24m      53357          59.301369\n",
       "account_worst_status_3_6m                51938          57.724282"
      ]
     },
     "execution_count": 5,
     "metadata": {},
     "output_type": "execute_result"
    }
   ],
   "source": [
    "## columns with total missing values\n",
    "missing_count = train_df.isnull().sum().sort_values(ascending = False)\n",
    "missing_df = pd.DataFrame(missing_count, columns = ['Frequency'])\n",
    "missing_df['PrecentageMissing'] = (missing_df['Frequency'] / train_df.shape[0]) * 100\n",
    "missing_df.head()"
   ]
  },
  {
   "cell_type": "code",
   "execution_count": null,
   "id": "102c2e3f",
   "metadata": {},
   "outputs": [],
   "source": [
    "## Drop columns with missing percentage more than 50\n",
    "drop_columns = missing_df.loc[missing_df['PrecentageMissing'] >= 40].index\n",
    "drop_columns"
   ]
  },
  {
   "cell_type": "code",
   "execution_count": null,
   "id": "e7746487",
   "metadata": {},
   "outputs": [],
   "source": [
    "train_df.drop(columns=drop_columns, inplace = True)\n",
    "y = train_df['default']\n",
    "X = train_df.drop(columns = ['default'])\n",
    "train_df.shape"
   ]
  },
  {
   "cell_type": "markdown",
   "id": "c952fce7",
   "metadata": {},
   "source": [
    "## Divide dataset into train and test "
   ]
  },
  {
   "cell_type": "code",
   "execution_count": null,
   "id": "fd16ad13",
   "metadata": {},
   "outputs": [],
   "source": [
    "from sklearn.model_selection import train_test_split\n",
    "X_train, X_test, y_train, y_test = train_test_split(X, y, test_size=0.33, random_state=42)"
   ]
  },
  {
   "cell_type": "markdown",
   "id": "1e9fc3af",
   "metadata": {},
   "source": [
    "## Prediction on True Test Data"
   ]
  },
  {
   "cell_type": "code",
   "execution_count": null,
   "id": "457a678f",
   "metadata": {},
   "outputs": [],
   "source": [
    "## Do the same preprocessing that was done on train data\n",
    "## 1. Missing value imputation - Done\n",
    "## 2. categorical to numerical conversion - Done"
   ]
  },
  {
   "cell_type": "code",
   "execution_count": null,
   "id": "ff98cb6d",
   "metadata": {},
   "outputs": [],
   "source": []
  },
  {
   "cell_type": "markdown",
   "id": "79d1d40e",
   "metadata": {},
   "source": [
    "## Oversampling using SMOTE"
   ]
  },
  {
   "cell_type": "code",
   "execution_count": null,
   "id": "83269b48",
   "metadata": {},
   "outputs": [],
   "source": [
    "from sklearn.compose import ColumnTransformer\n",
    "from sklearn.datasets import fetch_openml\n",
    "from sklearn.impute import SimpleImputer\n",
    "from sklearn.preprocessing import StandardScaler, OneHotEncoder\n",
    "from sklearn.linear_model import LogisticRegression\n",
    "from sklearn.model_selection import train_test_split, GridSearchCV\n",
    "from imblearn.over_sampling import SMOTE\n",
    "from imblearn.pipeline import Pipeline"
   ]
  },
  {
   "cell_type": "code",
   "execution_count": null,
   "id": "241af77e",
   "metadata": {},
   "outputs": [],
   "source": [
    "numeric_features = ['account_amount_added_12_24m',\t'account_days_in_dc_12_24m',\t'account_days_in_rem_12_24m',\n",
    "                    'account_days_in_term_12_24m',\t'age',\t'avg_payment_span_0_12m',\n",
    "                    'max_paid_inv_0_12m',\t'max_paid_inv_0_24m',\t'num_active_div_by_paid_inv_0_12m',\t'num_active_inv',\n",
    "                    'num_arch_dc_0_12m',\t'num_arch_dc_12_24m',\t'num_arch_ok_0_12m',\t'num_arch_ok_12_24m',\n",
    "                    'num_arch_rem_0_12m',\t'num_arch_written_off_0_12m',\t'num_arch_written_off_12_24m',\t'num_unpaid_bills',\n",
    "                    'status_last_archived_0_24m',\t'status_2nd_last_archived_0_24m',\t'status_3rd_last_archived_0_24m',\n",
    "                    'status_max_archived_0_6_months',\t'status_max_archived_0_12_months',\t'status_max_archived_0_24_months',\n",
    "                    'recovery_debt',\t'sum_capital_paid_account_0_12m',\t'sum_capital_paid_account_12_24m',\n",
    "                    'sum_paid_inv_0_12m',\t'time_hours']\n",
    "categorical_features = ['name_in_email', 'merchant_group', 'merchant_category']\n",
    "\n",
    "numeric_transformer = Pipeline(\n",
    "    steps=[(\"imputer\", SimpleImputer(strategy=\"median\")), (\"scaler\", StandardScaler())]\n",
    ")\n",
    "\n",
    "categorical_transformer = OneHotEncoder(handle_unknown=\"ignore\")\n",
    "\n",
    "preprocessor = ColumnTransformer(\n",
    "    transformers=[\n",
    "        (\"num\", numeric_transformer, numeric_features),\n",
    "        (\"cat\", categorical_transformer, categorical_features),\n",
    "    ]\n",
    ")\n",
    "\n",
    "preprocessor.fit(X_train)\n",
    "X_train = preprocessor.transform(X_train)\n",
    "X_test = preprocessor.transform(X_test)"
   ]
  },
  {
   "cell_type": "code",
   "execution_count": null,
   "id": "0e39450e",
   "metadata": {},
   "outputs": [],
   "source": [
    "from imblearn.over_sampling import SMOTE\n",
    "smote = SMOTE(random_state = 42)\n",
    "X_train, y_train = smote.fit_resample(X_train, y_train)"
   ]
  },
  {
   "cell_type": "code",
   "execution_count": null,
   "id": "42fca1aa",
   "metadata": {},
   "outputs": [],
   "source": [
    "from sklearn.ensemble import RandomForestClassifier\n",
    "clf = RandomForestClassifier()\n",
    "clf.fit(X_train, y_train)\n",
    "print(\"training accuracy: {:.2f}\".format(clf.score(X_train, y_train) * 100))\n",
    "print(\"Test accuracy    : {:.2f}\".format(clf.score(X_test, y_test) * 100))"
   ]
  },
  {
   "cell_type": "code",
   "execution_count": null,
   "id": "4acc280a",
   "metadata": {},
   "outputs": [],
   "source": [
    "uuid = test_df['uuid']\n",
    "test_df.drop(columns = ['uuid', 'default'] + drop_columns.tolist(), inplace = True)\n",
    "X_trans = preprocessor.transform(test_df)\n",
    "p_default = clf.predict_proba(X_trans)\n",
    "pred_df = pd.DataFrame({'uuid': uuid, 'pd': p_default[:, 1]})\n",
    "pred_df.to_csv(r'output.csv', sep = ';', index = False)"
   ]
  },
  {
   "cell_type": "code",
   "execution_count": null,
   "id": "70146f08",
   "metadata": {},
   "outputs": [],
   "source": [
    "import joblib\n",
    "joblib.dump(clf, 'model')\n",
    "joblib.dump(preprocessor, 'preprocessor')"
   ]
  },
  {
   "cell_type": "markdown",
   "id": "ecf2b79a",
   "metadata": {},
   "source": [
    "## Gridsearch using cross validation\n",
    "### Find best parameter for random forest, logistic regression and support vector machine"
   ]
  },
  {
   "cell_type": "code",
   "execution_count": null,
   "id": "739f7623",
   "metadata": {},
   "outputs": [],
   "source": []
  },
  {
   "cell_type": "code",
   "execution_count": null,
   "id": "ec0ab797",
   "metadata": {},
   "outputs": [],
   "source": [
    "numeric_features = ['account_amount_added_12_24m',\t'account_days_in_dc_12_24m',\t'account_days_in_rem_12_24m',\n",
    "                    'account_days_in_term_12_24m',\t'age',\t'avg_payment_span_0_12m',\n",
    "                    'max_paid_inv_0_12m',\t'max_paid_inv_0_24m',\t'num_active_div_by_paid_inv_0_12m',\t'num_active_inv',\n",
    "                    'num_arch_dc_0_12m',\t'num_arch_dc_12_24m',\t'num_arch_ok_0_12m',\t'num_arch_ok_12_24m',\n",
    "                    'num_arch_rem_0_12m',\t'num_arch_written_off_0_12m',\t'num_arch_written_off_12_24m',\t'num_unpaid_bills',\n",
    "                    'status_last_archived_0_24m',\t'status_2nd_last_archived_0_24m',\t'status_3rd_last_archived_0_24m',\n",
    "                    'status_max_archived_0_6_months',\t'status_max_archived_0_12_months',\t'status_max_archived_0_24_months',\n",
    "                    'recovery_debt',\t'sum_capital_paid_account_0_12m',\t'sum_capital_paid_account_12_24m',\n",
    "                    'sum_paid_inv_0_12m',\t'time_hours']\n",
    "categorical_features = ['name_in_email', 'merchant_group', 'merchant_category']\n",
    "\n",
    "numeric_transformer = Pipeline(\n",
    "    steps=[(\"imputer\", SimpleImputer(strategy=\"median\")), (\"scaler\", StandardScaler())]\n",
    ")\n",
    "\n",
    "categorical_transformer = OneHotEncoder(handle_unknown=\"ignore\")\n",
    "\n",
    "preprocessor = ColumnTransformer(\n",
    "    transformers=[\n",
    "        (\"num\", numeric_transformer, numeric_features),\n",
    "        (\"cat\", categorical_transformer, categorical_features),\n",
    "    ]\n",
    ")\n",
    "\n",
    "preprocessor.fit(X_train)\n",
    "X_train = preprocessor.transform(X_train)\n",
    "X_test = preprocessor.transform(X_test)\n",
    "clf = Pipeline(\n",
    "    steps=[(\"overSampling\", SMOTE(random_state = 42)),\n",
    "           (\"classifier\", LogisticRegression())]\n",
    ")\n"
   ]
  },
  {
   "cell_type": "code",
   "execution_count": null,
   "id": "560b49db",
   "metadata": {},
   "outputs": [],
   "source": [
    "clf.fit(X_train, y_train)"
   ]
  },
  {
   "cell_type": "code",
   "execution_count": 10,
   "id": "6db7446d",
   "metadata": {},
   "outputs": [],
   "source": [
    "yy = df.iloc[0].to_dict()"
   ]
  },
  {
   "cell_type": "code",
   "execution_count": 12,
   "id": "a64ee0dc",
   "metadata": {},
   "outputs": [
    {
     "data": {
      "text/plain": [
       "numpy.float64"
      ]
     },
     "execution_count": 12,
     "metadata": {},
     "output_type": "execute_result"
    }
   ],
   "source": [
    "type(yy['account_worst_status_12_24m'])"
   ]
  },
  {
   "cell_type": "code",
   "execution_count": 13,
   "id": "7cbb9251",
   "metadata": {},
   "outputs": [],
   "source": [
    "import numpy as np"
   ]
  },
  {
   "cell_type": "code",
   "execution_count": 14,
   "id": "f0afb4a0",
   "metadata": {},
   "outputs": [
    {
     "data": {
      "text/plain": [
       "nan"
      ]
     },
     "execution_count": 14,
     "metadata": {},
     "output_type": "execute_result"
    }
   ],
   "source": [
    "np.nan"
   ]
  },
  {
   "cell_type": "code",
   "execution_count": 16,
   "id": "b523a268",
   "metadata": {},
   "outputs": [],
   "source": [
    "yy = test_df.iloc[0].to_dict()"
   ]
  },
  {
   "cell_type": "code",
   "execution_count": 17,
   "id": "b6341b55",
   "metadata": {},
   "outputs": [
    {
     "data": {
      "text/plain": [
       "{'uuid': '6f6e6c6a-2081-4e6b-8eb3-4fd89b54b2d7',\n",
       " 'default': nan,\n",
       " 'account_amount_added_12_24m': 0,\n",
       " 'account_days_in_dc_12_24m': 0.0,\n",
       " 'account_days_in_rem_12_24m': 0.0,\n",
       " 'account_days_in_term_12_24m': 0.0,\n",
       " 'account_incoming_debt_vs_paid_0_24m': 0.0091346153846153,\n",
       " 'account_status': 1.0,\n",
       " 'account_worst_status_0_3m': 1.0,\n",
       " 'account_worst_status_12_24m': nan,\n",
       " 'account_worst_status_3_6m': 1.0,\n",
       " 'account_worst_status_6_12m': 1.0,\n",
       " 'age': 20,\n",
       " 'avg_payment_span_0_12m': 6.4,\n",
       " 'avg_payment_span_0_3m': 5.25,\n",
       " 'merchant_category': 'Youthful Shoes & Clothing',\n",
       " 'merchant_group': 'Clothing & Shoes',\n",
       " 'has_paid': True,\n",
       " 'max_paid_inv_0_12m': 7225.0,\n",
       " 'max_paid_inv_0_24m': 7225.0,\n",
       " 'name_in_email': 'F',\n",
       " 'num_active_div_by_paid_inv_0_12m': 0.0,\n",
       " 'num_active_inv': 0,\n",
       " 'num_arch_dc_0_12m': 0,\n",
       " 'num_arch_dc_12_24m': 0,\n",
       " 'num_arch_ok_0_12m': 5,\n",
       " 'num_arch_ok_12_24m': 0,\n",
       " 'num_arch_rem_0_12m': 0,\n",
       " 'num_arch_written_off_0_12m': 0.0,\n",
       " 'num_arch_written_off_12_24m': 0.0,\n",
       " 'num_unpaid_bills': 1,\n",
       " 'status_last_archived_0_24m': 1,\n",
       " 'status_2nd_last_archived_0_24m': 1,\n",
       " 'status_3rd_last_archived_0_24m': 1,\n",
       " 'status_max_archived_0_6_months': 1,\n",
       " 'status_max_archived_0_12_months': 1,\n",
       " 'status_max_archived_0_24_months': 1,\n",
       " 'recovery_debt': 0,\n",
       " 'sum_capital_paid_account_0_12m': 8815,\n",
       " 'sum_capital_paid_account_12_24m': 0,\n",
       " 'sum_paid_inv_0_12m': 27157,\n",
       " 'time_hours': 19.8955555555556,\n",
       " 'worst_status_active_inv': nan}"
      ]
     },
     "execution_count": 17,
     "metadata": {},
     "output_type": "execute_result"
    }
   ],
   "source": [
    "yy"
   ]
  },
  {
   "cell_type": "code",
   "execution_count": null,
   "id": "f050f419",
   "metadata": {},
   "outputs": [],
   "source": []
  }
 ],
 "metadata": {
  "kernelspec": {
   "display_name": "Python 3",
   "language": "python",
   "name": "python3"
  },
  "language_info": {
   "codemirror_mode": {
    "name": "ipython",
    "version": 3
   },
   "file_extension": ".py",
   "mimetype": "text/x-python",
   "name": "python",
   "nbconvert_exporter": "python",
   "pygments_lexer": "ipython3",
   "version": "3.8.8"
  }
 },
 "nbformat": 4,
 "nbformat_minor": 5
}
