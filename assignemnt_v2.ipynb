{
 "cells": [
  {
   "cell_type": "code",
   "execution_count": null,
   "id": "35b261c1",
   "metadata": {},
   "outputs": [],
   "source": [
    "import pandas as pd\n",
    "df = pd.read_csv(r'dataset.csv',delimiter = ';')\n",
    "print(df.shape)\n",
    "print(df.dtypes.sort_values())"
   ]
  },
  {
   "cell_type": "code",
   "execution_count": null,
   "id": "3e21d6e8",
   "metadata": {},
   "outputs": [],
   "source": [
    "## distribution of dependent variable\n",
    "df['default'].value_counts()"
   ]
  },
  {
   "cell_type": "code",
   "execution_count": null,
   "id": "5f992a3a",
   "metadata": {},
   "outputs": [],
   "source": [
    "from sklearn import preprocessing\n",
    "columns = ['name_in_email', 'merchant_group', 'merchant_category']\n",
    "for column in columns:\n",
    "    le = preprocessing.LabelEncoder()\n",
    "    le.fit(df[column])\n",
    "    df.loc[:, column] = le.transform(df[column])"
   ]
  },
  {
   "cell_type": "markdown",
   "id": "9e9eb821",
   "metadata": {},
   "source": [
    "## Segrate train and test data"
   ]
  },
  {
   "cell_type": "code",
   "execution_count": null,
   "id": "d4396cd1",
   "metadata": {},
   "outputs": [],
   "source": [
    "test_df = df.loc[df['default'].isnull()]\n",
    "train_df = df.loc[~(df['default'].isnull())]\n",
    "print(test_df.shape)\n",
    "print(train_df.shape)"
   ]
  },
  {
   "cell_type": "code",
   "execution_count": null,
   "id": "e0ae6508",
   "metadata": {},
   "outputs": [],
   "source": [
    "## drop uuid from train data\n",
    "train_df = train_df.drop(columns = ['uuid'])\n",
    "train_df.shape"
   ]
  },
  {
   "cell_type": "markdown",
   "id": "7bcfecb9",
   "metadata": {},
   "source": [
    "## Missing value distribution and imputation\n",
    "### Todo:\n",
    "#### 1. Use different than mean for imputation\n",
    "#### 2. Use automated imputation using modeling\n",
    "#### 3. There is model specific imputation"
   ]
  },
  {
   "cell_type": "code",
   "execution_count": null,
   "id": "bb8cfa5d",
   "metadata": {},
   "outputs": [],
   "source": [
    "## columns with total missing values\n",
    "missing_count = train_df.isnull().sum().sort_values(ascending = False)\n",
    "missing_df = pd.DataFrame(missing_count, columns = ['Frequency'])\n",
    "missing_df['PrecentageMissing'] = (missing_df['Frequency'] / train_df.shape[0]) * 100\n",
    "missing_df"
   ]
  },
  {
   "cell_type": "code",
   "execution_count": null,
   "id": "102c2e3f",
   "metadata": {},
   "outputs": [],
   "source": [
    "## Drop columns with missing percentage more than 50\n",
    "drop_columns = missing_df.loc[missing_df['PrecentageMissing'] >= 40].index\n",
    "drop_columns"
   ]
  },
  {
   "cell_type": "code",
   "execution_count": null,
   "id": "e7746487",
   "metadata": {},
   "outputs": [],
   "source": [
    "train_df.drop(columns=drop_columns, inplace = True)\n",
    "train_df.shape"
   ]
  },
  {
   "cell_type": "code",
   "execution_count": null,
   "id": "1d299dbc",
   "metadata": {},
   "outputs": [],
   "source": [
    "### Missing value imputation using mean\n",
    "mean = train_df.mean()\n",
    "train_df = train_df.fillna(mean)\n",
    "test_df = test_df.fillna(mean)\n",
    "y = train_df['default']\n",
    "X = train_df.drop(columns = ['default'])"
   ]
  },
  {
   "cell_type": "markdown",
   "id": "c952fce7",
   "metadata": {},
   "source": [
    "## Divide dataset into train and test "
   ]
  },
  {
   "cell_type": "code",
   "execution_count": null,
   "id": "fd16ad13",
   "metadata": {},
   "outputs": [],
   "source": [
    "from sklearn.model_selection import train_test_split\n",
    "X_train, X_test, y_train, y_test = train_test_split(X, y, test_size=0.33, random_state=42)"
   ]
  },
  {
   "cell_type": "markdown",
   "id": "824f381e",
   "metadata": {},
   "source": [
    "## Baseline model "
   ]
  },
  {
   "cell_type": "code",
   "execution_count": null,
   "id": "6c160087",
   "metadata": {},
   "outputs": [],
   "source": [
    "from sklearn.linear_model import LogisticRegression\n",
    "model = LogisticRegression(max_iter = 500)\n",
    "model.fit(X_train, y_train)\n",
    "print(\"training accuracy: {}\".format(model.score(X_train, y_train)))\n",
    "print(\"Test accuracy: {}\".format(model.score(X_test, y_test)))"
   ]
  },
  {
   "cell_type": "code",
   "execution_count": null,
   "id": "45735664",
   "metadata": {},
   "outputs": [],
   "source": [
    "from sklearn.ensemble import RandomForestClassifier\n",
    "clf = RandomForestClassifier()\n",
    "clf.fit(X_train, y_train)\n",
    "print(\"training accuracy: {}\".format(clf.score(X_train, y_train)))\n",
    "print(\"Test accuracy: {}\".format(clf.score(X_test, y_test)))"
   ]
  },
  {
   "cell_type": "code",
   "execution_count": null,
   "id": "87b869a4",
   "metadata": {},
   "outputs": [],
   "source": []
  },
  {
   "cell_type": "markdown",
   "id": "1e9fc3af",
   "metadata": {},
   "source": [
    "## Prediction on True Test Data"
   ]
  },
  {
   "cell_type": "code",
   "execution_count": null,
   "id": "457a678f",
   "metadata": {},
   "outputs": [],
   "source": [
    "## Do the same preprocessing that was done on train data\n",
    "## 1. Missing value imputation - Done\n",
    "## 2. categorical to numerical conversion - Done"
   ]
  },
  {
   "cell_type": "code",
   "execution_count": null,
   "id": "ff98cb6d",
   "metadata": {},
   "outputs": [],
   "source": []
  },
  {
   "cell_type": "markdown",
   "id": "79d1d40e",
   "metadata": {},
   "source": [
    "## Oversampling using SMOTE"
   ]
  },
  {
   "cell_type": "code",
   "execution_count": null,
   "id": "54c939aa",
   "metadata": {},
   "outputs": [],
   "source": [
    "from imblearn.over_sampling import SMOTE\n",
    "smote = SMOTE(random_state = 42)\n",
    "X_train, y_train = smote.fit_resample(X_train, y_train)"
   ]
  },
  {
   "cell_type": "code",
   "execution_count": null,
   "id": "1284121c",
   "metadata": {},
   "outputs": [],
   "source": [
    "from sklearn.linear_model import LogisticRegression\n",
    "model = LogisticRegression(max_iter = 500)\n",
    "model.fit(X_train, y_train)\n",
    "print(\"Training accuracy: {:.2f}%\".format(model.score(X_train, y_train) * 100))\n",
    "print(\"Test accuracy    : {:.2f}%\".format(model.score(X_test, y_test) * 100))"
   ]
  },
  {
   "cell_type": "code",
   "execution_count": null,
   "id": "8375913c",
   "metadata": {},
   "outputs": [],
   "source": [
    "from sklearn.ensemble import RandomForestClassifier\n",
    "clf = RandomForestClassifier(bootstrap= True, criterion = 'entropy', n_estimators =100)\n",
    "clf.fit(X_train, y_train)\n",
    "print(\"Training accuracy: {:.2f}%\".format(clf.score(X_train, y_train) * 100))\n",
    "print(\"Test accuracy    : {:.2f}%\".format(clf.score(X_test, y_test) * 100))"
   ]
  },
  {
   "cell_type": "code",
   "execution_count": null,
   "id": "4acc280a",
   "metadata": {},
   "outputs": [],
   "source": [
    "uuid = test_df['uuid']\n",
    "test_df.drop(columns = ['uuid', 'default'] + drop_columns.tolist(), inplace = True)\n",
    "p_default = clf.predict_proba(test_df)\n",
    "pred_df = pd.DataFrame({'uuid': uuid, 'pd': p_default[:, 1]})\n",
    "pred_df.to_csv(r'output.csv', sep = ';', index = False)"
   ]
  },
  {
   "cell_type": "code",
   "execution_count": null,
   "id": "2c49b35e",
   "metadata": {},
   "outputs": [],
   "source": [
    "import joblib\n",
    "joblib.dump(clf, 'model')"
   ]
  },
  {
   "cell_type": "markdown",
   "id": "ecf2b79a",
   "metadata": {},
   "source": [
    "## Gridsearch using cross validation\n",
    "### Find best parameter for random forest, logistic regression and support vector machine"
   ]
  },
  {
   "cell_type": "code",
   "execution_count": null,
   "id": "32e33696",
   "metadata": {},
   "outputs": [],
   "source": [
    "from sklearn.model_selection import GridSearchCV\n",
    "from sklearn.svm import SVC"
   ]
  },
  {
   "cell_type": "code",
   "execution_count": null,
   "id": "52b856b8",
   "metadata": {},
   "outputs": [],
   "source": [
    "# param_grid = [\n",
    "#   {'C': [1, 10, 100, 1000], 'kernel': ['linear']},\n",
    "#   {'C': [1, 10, 100, 1000], 'gamma': [0.001, 0.0001], 'kernel': ['rbf']},\n",
    "#  ]\n",
    "param_grid = [{'C': [1, 100,1000], 'gamma': [0.001, 0.0001], 'kernel': ['rbf']}]\n",
    "model = SVC(random_state=42)\n",
    "clf = GridSearchCV(model, param_grid, cv = 3, verbose = 5)\n",
    "clf.fit(X_train, y_train)"
   ]
  },
  {
   "cell_type": "code",
   "execution_count": null,
   "id": "e3af428b",
   "metadata": {},
   "outputs": [],
   "source": [
    "param_grid = [{'n_estimators': [10, 50, 100], 'criterion': ['gini', 'entropy'], 'bootstrap': [True]}]\n",
    "model = RandomForestClassifier(random_state=42)\n",
    "clf = GridSearchCV(model, param_grid, cv = 3, verbose = 5)\n",
    "clf.fit(X_train, y_train)"
   ]
  },
  {
   "cell_type": "code",
   "execution_count": null,
   "id": "0f5c275c",
   "metadata": {},
   "outputs": [],
   "source": [
    "print(clf.best_score_)\n",
    "print(clf.best_params_)"
   ]
  },
  {
   "cell_type": "code",
   "execution_count": 1,
   "id": "46e80ae7",
   "metadata": {},
   "outputs": [],
   "source": [
    "from sklearn.pipeline import Pipeline"
   ]
  },
  {
   "cell_type": "code",
   "execution_count": null,
   "id": "45f8777b",
   "metadata": {},
   "outputs": [],
   "source": [
    "pipe = Pipeline([('scaler', StandardScaler()), ('svc', SVC())])"
   ]
  }
 ],
 "metadata": {
  "kernelspec": {
   "display_name": "Python 3",
   "language": "python",
   "name": "python3"
  },
  "language_info": {
   "codemirror_mode": {
    "name": "ipython",
    "version": 3
   },
   "file_extension": ".py",
   "mimetype": "text/x-python",
   "name": "python",
   "nbconvert_exporter": "python",
   "pygments_lexer": "ipython3",
   "version": "3.8.8"
  }
 },
 "nbformat": 4,
 "nbformat_minor": 5
}
